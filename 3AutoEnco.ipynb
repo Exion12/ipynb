{
 "cells": [
  {
   "cell_type": "code",
   "execution_count": 1,
   "id": "5e629463-ca01-4fd0-aeab-75fd3223b6cf",
   "metadata": {},
   "outputs": [],
   "source": [
    "# Import required libraries\n",
    "import numpy as np  # Standard convention for numpy\n",
    "import pandas as pd\n",
    "import tensorflow as tf\n",
    "from sklearn.preprocessing import StandardScaler\n",
    "from sklearn.model_selection import train_test_split\n",
    "from tensorflow.keras import layers, models\n",
    "import matplotlib.pyplot as plt\n"
   ]
  },
  {
   "cell_type": "code",
   "execution_count": 2,
   "id": "f892153b-2d39-49e8-a92c-bdc723ed8558",
   "metadata": {},
   "outputs": [],
   "source": [
    "# b) Load and preprocess the dataset\n",
    "PATH_TO_DATA = 'http://storage.googleapis.com/download.tensorflow.org/data/ecg.csv'\n",
    "data = pd.read_csv(PATH_TO_DATA, header=None)"
   ]
  },
  {
   "cell_type": "code",
   "execution_count": 3,
   "id": "54d4172d-e389-4335-ab09-098e0856d267",
   "metadata": {},
   "outputs": [
    {
     "name": "stdout",
     "output_type": "stream",
     "text": [
      "Input dimension: 141\n"
     ]
    }
   ],
   "source": [
    "\n",
    "# Standardize the data\n",
    "scaler = StandardScaler()\n",
    "X = scaler.fit_transform(data.values)\n",
    "y = X  # For autoencoder, X is both input and target output\n",
    "\n",
    "# Split the data into training and test sets\n",
    "X_train, X_test, _, _ = train_test_split(X, X, test_size=0.2, random_state=42)\n",
    "input_dim = X_train.shape[1]\n",
    "print(\"Input dimension:\", input_dim)"
   ]
  },
  {
   "cell_type": "code",
   "execution_count": 4,
   "id": "342f9791-bbfd-4c3b-9d23-a50a14213e29",
   "metadata": {},
   "outputs": [],
   "source": [
    "# c) Define the Encoder\n",
    "encoder = models.Sequential([\n",
    "    layers.Input(shape=(input_dim,)),\n",
    "    layers.Dense(32, activation=\"relu\"),\n",
    "    layers.Dense(16, activation=\"relu\"),\n",
    "    layers.Dense(8, activation=\"relu\")  # Latent representation size = 8\n",
    "])\n"
   ]
  },
  {
   "cell_type": "code",
   "execution_count": 5,
   "id": "a89d8b00-adaa-4574-b8fa-853981f61cb4",
   "metadata": {},
   "outputs": [],
   "source": [
    "# d) Define the Decoder\n",
    "decoder = models.Sequential([\n",
    "    layers.Input(shape=(8,)),\n",
    "    layers.Dense(16, activation=\"relu\"),\n",
    "    layers.Dense(32, activation=\"relu\"),\n",
    "    layers.Dense(input_dim, activation=\"linear\")  # Output size matches input dimension\n",
    "])"
   ]
  },
  {
   "cell_type": "code",
   "execution_count": 6,
   "id": "ab2547a5-1a9a-4112-b945-8b071d5c53f6",
   "metadata": {},
   "outputs": [],
   "source": [
    "# Combine Encoder and Decoder into the Autoencoder model\n",
    "autoencoder = models.Sequential([encoder, decoder])\n"
   ]
  },
  {
   "cell_type": "code",
   "execution_count": 7,
   "id": "05aeb2e9-1253-4f6f-8672-000815769777",
   "metadata": {},
   "outputs": [
    {
     "name": "stdout",
     "output_type": "stream",
     "text": [
      "Epoch 1/10\n",
      "\u001b[1m100/100\u001b[0m \u001b[32m━━━━━━━━━━━━━━━━━━━━\u001b[0m\u001b[37m\u001b[0m \u001b[1m2s\u001b[0m 4ms/step - accuracy: 0.0102 - loss: 0.9097 - val_accuracy: 0.0213 - val_loss: 0.5203\n",
      "Epoch 2/10\n",
      "\u001b[1m100/100\u001b[0m \u001b[32m━━━━━━━━━━━━━━━━━━━━\u001b[0m\u001b[37m\u001b[0m \u001b[1m0s\u001b[0m 2ms/step - accuracy: 0.0221 - loss: 0.5100 - val_accuracy: 0.0725 - val_loss: 0.3898\n",
      "Epoch 3/10\n",
      "\u001b[1m100/100\u001b[0m \u001b[32m━━━━━━━━━━━━━━━━━━━━\u001b[0m\u001b[37m\u001b[0m \u001b[1m0s\u001b[0m 2ms/step - accuracy: 0.0892 - loss: 0.3565 - val_accuracy: 0.0925 - val_loss: 0.2924\n",
      "Epoch 4/10\n",
      "\u001b[1m100/100\u001b[0m \u001b[32m━━━━━━━━━━━━━━━━━━━━\u001b[0m\u001b[37m\u001b[0m \u001b[1m0s\u001b[0m 2ms/step - accuracy: 0.1005 - loss: 0.3108 - val_accuracy: 0.1037 - val_loss: 0.2702\n",
      "Epoch 5/10\n",
      "\u001b[1m100/100\u001b[0m \u001b[32m━━━━━━━━━━━━━━━━━━━━\u001b[0m\u001b[37m\u001b[0m \u001b[1m0s\u001b[0m 2ms/step - accuracy: 0.1192 - loss: 0.2569 - val_accuracy: 0.1125 - val_loss: 0.2345\n",
      "Epoch 6/10\n",
      "\u001b[1m100/100\u001b[0m \u001b[32m━━━━━━━━━━━━━━━━━━━━\u001b[0m\u001b[37m\u001b[0m \u001b[1m0s\u001b[0m 2ms/step - accuracy: 0.1254 - loss: 0.2415 - val_accuracy: 0.1262 - val_loss: 0.2125\n",
      "Epoch 7/10\n",
      "\u001b[1m100/100\u001b[0m \u001b[32m━━━━━━━━━━━━━━━━━━━━\u001b[0m\u001b[37m\u001b[0m \u001b[1m0s\u001b[0m 2ms/step - accuracy: 0.1176 - loss: 0.2110 - val_accuracy: 0.1150 - val_loss: 0.1998\n",
      "Epoch 8/10\n",
      "\u001b[1m100/100\u001b[0m \u001b[32m━━━━━━━━━━━━━━━━━━━━\u001b[0m\u001b[37m\u001b[0m \u001b[1m0s\u001b[0m 2ms/step - accuracy: 0.1270 - loss: 0.2093 - val_accuracy: 0.1138 - val_loss: 0.1900\n",
      "Epoch 9/10\n",
      "\u001b[1m100/100\u001b[0m \u001b[32m━━━━━━━━━━━━━━━━━━━━\u001b[0m\u001b[37m\u001b[0m \u001b[1m0s\u001b[0m 2ms/step - accuracy: 0.1372 - loss: 0.2007 - val_accuracy: 0.1187 - val_loss: 0.1839\n",
      "Epoch 10/10\n",
      "\u001b[1m100/100\u001b[0m \u001b[32m━━━━━━━━━━━━━━━━━━━━\u001b[0m\u001b[37m\u001b[0m \u001b[1m0s\u001b[0m 2ms/step - accuracy: 0.1397 - loss: 0.1789 - val_accuracy: 0.1175 - val_loss: 0.1802\n"
     ]
    }
   ],
   "source": [
    "# e) Compile the model\n",
    "autoencoder.compile(optimizer=\"adam\", loss=\"mean_squared_error\", metrics=[\"accuracy\"])\n",
    "\n",
    "# Train the Autoencoder\n",
    "history = autoencoder.fit(X_train, X_train, epochs=10, batch_size=32, validation_split=0.2)"
   ]
  },
  {
   "cell_type": "code",
   "execution_count": 15,
   "id": "f8d1475f-f355-4f71-a9f6-4456a5379cba",
   "metadata": {},
   "outputs": [
    {
     "data": {
      "image/png": "[encoded data removed]",
      "text/plain": [
       "<Figure size 640x480 with 1 Axes>"
      ]
     },
     "metadata": {},
     "output_type": "display_data"
    }
   ],
   "source": [
    "\n",
    "# Plot training history for loss\n",
    "plt.plot(history.history['loss'], label='Training Loss')\n",
    "plt.plot(history.history['val_loss'], label='Validation Loss')\n",
    "plt.xlabel('Epoch')\n",
    "plt.ylabel('Loss')\n",
    "plt.legend()\n",
    "plt.show()\n",
    "\n"
   ]
  },
  {
   "cell_type": "code",
   "execution_count": 17,
   "id": "9cd9b4b2-ffbe-4481-8757-d53d28c6d870",
   "metadata": {},
   "outputs": [
    {
     "name": "stdout",
     "output_type": "stream",
     "text": [
      "\u001b[1m32/32\u001b[0m \u001b[32m━━━━━━━━━━━━━━━━━━━━\u001b[0m\u001b[37m\u001b[0m \u001b[1m0s\u001b[0m 3ms/step\n"
     ]
    }
   ],
   "source": [
    "# Predict on the test set\n",
    "y_pred = autoencoder.predict(X_test)\n",
    "\n",
    "# Calculate Mean Squared Error (MSE) for each instance in the test set\n",
    "mse = np.mean(np.power(X_test - y_pred, 2), axis=1)\n",
    "\n"
   ]
  },
  {
   "cell_type": "code",
   "execution_count": 19,
   "id": "5e72824a-8d42-48b8-9412-9358bb62b128",
   "metadata": {},
   "outputs": [
    {
     "name": "stdout",
     "output_type": "stream",
     "text": [
      "Anomaly detection threshold (95th percentile): 0.522949126870143\n"
     ]
    }
   ],
   "source": [
    "# Determine the anomaly threshold at the 95th percentile of MSE values\n",
    "threshold = np.percentile(mse, 95)\n",
    "print(\"Anomaly detection threshold (95th percentile):\", threshold)\n"
   ]
  },
  {
   "cell_type": "code",
   "execution_count": 21,
   "id": "4666a8fa-5e81-4462-8eaa-7230cd3049d8",
   "metadata": {},
   "outputs": [],
   "source": [
    "# Identify anomalies based on the threshold\n",
    "anomalies = mse > threshold"
   ]
  },
  {
   "cell_type": "code",
   "execution_count": 23,
   "id": "0899a192-463c-4687-95d9-303bea2078c5",
   "metadata": {},
   "outputs": [
    {
     "name": "stdout",
     "output_type": "stream",
     "text": [
      "Number of anomalies detected: 50\n"
     ]
    }
   ],
   "source": [
    "\n",
    "\n",
    "\n",
    "# Count the number of anomalies\n",
    "num_anomalies = np.sum(anomalies)\n",
    "print(f\"Number of anomalies detected: {num_anomalies}\")"
   ]
  },
  {
   "cell_type": "code",
   "execution_count": null,
   "id": "eadccbbc-1b87-4e9e-9546-fc244a8dd34d",
   "metadata": {},
   "outputs": [],
   "source": []
  }
 ],
 "metadata": {
  "kernelspec": {
   "display_name": "Python 3 (ipykernel)",
   "language": "python",
   "name": "python3"
  },
  "language_info": {
   "codemirror_mode": {
    "name": "ipython",
    "version": 3
   },
   "file_extension": ".py",
   "mimetype": "text/x-python",
   "name": "python",
   "nbconvert_exporter": "python",
   "pygments_lexer": "ipython3",
   "version": "3.12.7"
  }
 },
 "nbformat": 4,
 "nbformat_minor": 5
}
